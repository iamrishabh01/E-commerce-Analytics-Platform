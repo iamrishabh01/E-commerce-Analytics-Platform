{
  "nbformat": 4,
  "nbformat_minor": 0,
  "metadata": {
    "colab": {
      "provenance": []
    },
    "kernelspec": {
      "name": "python3",
      "display_name": "Python 3"
    },
    "language_info": {
      "name": "python"
    }
  },
  "cells": [
    {
      "cell_type": "code",
      "execution_count": null,
      "metadata": {
        "id": "H9RvbB1IJlPo"
      },
      "outputs": [],
      "source": [
        "# Gold Processing Notebook\n",
        "gold_sales = (spark.table(\"silver_events\")\n",
        "  .filter(col(\"event_type\") == \"purchase\")\n",
        "  .groupBy(\"product_id\", \"event_date\")\n",
        "  .agg(\n",
        "    sum(\"price\").alias(\"daily_revenue\"),\n",
        "    count(\"*\").alias(\"orders\")\n",
        "  )\n",
        ")\n",
        "\n",
        "gold_sales.write.format(\"delta\").save(\"abfss://gold@adls.dfs.core.windows.net/sales_kpis\")"
      ]
    }
  ]
}